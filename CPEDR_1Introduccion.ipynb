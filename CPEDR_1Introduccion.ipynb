{
 "cells": [
  {
   "cell_type": "markdown",
   "metadata": {
    "id": "zPRJ7kBSt4W8"
   },
   "source": [
    "# Análisis y visualización de datos con Python\n",
    "# 1. Introducción a Python\n",
    "\n",
    "    - a) Python y Jupyter Notebooks\n",
    "    - b) Valores, variables y tipos\n",
    "    - c) Operaciones y funciones\n",
    "    - d) Comentarios y errores\n",
    "    - e) Resumen\n",
    "\n",
    "---\n",
    "\n",
    "Bienvenido al curso de Análisis y Visualización de Datos con Python.\n",
    "\n",
    "Durante el curso, aprenderás a manipular y visualizar datos de manera eficiente, utilizando herramientas y técnicas avanzadas. Al final del curso, esperamos que tengas las habilidades necesarias para realizar análisis de datos con confianza y en profundidad.\n",
    "\n",
    "Este tutorial está diseñado para aquellos interesados en el análisis de datos y la visualización, y que desean aprender cómo utilizar Python y Pandas para realizar esta tarea de manera efectiva. Aunque no se requiere experiencia previa en programación o análisis de datos, se recomienda tener un conocimiento básico de Excel y Python para aprovechar al máximo el tutorial.\n",
    "\n",
    "Este primer tutorial está diseñado para proporcionar una introducción práctica y en profundidad a la programación en Python y los notebooks de Anaconda.         \n",
    "        "
   ]
  },
  {
   "cell_type": "markdown",
   "metadata": {
    "id": "R-NtBpirt4W_"
   },
   "source": [
    "## 1.a Python y Jupyter Notebooks\n",
    "\n",
    "**Python es un lenguaje de programación** interpretado, dinámico y de alto nivel, creado por Guido van Rossum en 1991. Es ampliamente utilizado en diversos campos, incluyendo la ciencia de datos, el desarrollo web, la inteligencia artificial y la automatización de tareas. Python es conocido por ser fácil de aprender y leer, y cuenta con una amplia variedad de bibliotecas y módulos que facilitan el desarrollo de aplicaciones y proyectos. Además, es un lenguaje multiplataforma, lo que significa que se puede utilizar en diferentes sistemas operativos como Windows, Mac y Linux.\n",
    "\n",
    "Para utilizar Python existen una serie de herramientas, en este curso nos centraremos es [Google Colab](https://colab.research.google.com/) y [Jupyter Notebooks](https://jupyter.org/).\n",
    "Un **Notebook** es una aplicación web que permite crear y compartir documentos que contienen código, texto, visualizaciones y otros elementos interactivos. Los Jupyter Notebooks se usan comúnmente en la ciencia de datos y la programación para explorar y analizar datos, desarrollar y probar código y crear informes o presentaciones interactivas.\n",
    "\n",
    "Los Notebooks están compuestos por **celdas**, que pueden ser de tres tipos:\n",
    "* **Markdown** permiten escribir texto en [formato Markdown](https://docs.github.com/en/get-started/writing-on-github/getting-started-with-writing-and-formatting-on-github/basic-writing-and-formatting-syntax#footnotes). Sirven para documentar el proceso de trabajo.\n",
    "* **Code** permiten escribir código en el lenguaje de programación elegido. La salida generada por el código, como texto, tablas, imágenes, etc., también se mostrará en la celda Code.\n",
    "\n",
    "Para **ejecutar una celda**, se puede hacer clic en el botón ▶️ `Run` o presionar `Ctrl + Enter` Es importante tener en cuenta que el kernel del Notebook muestra información del estado de ejecución y el lenguaje de programación en la esquina superior derecha.\n",
    "\n",
    "### Ejercicio 1\n",
    "\n",
    "1. Ejecuta la siguiente celda y examina las diferentes partes de la celda."
   ]
  },
  {
   "cell_type": "code",
   "execution_count": 1,
   "metadata": {
    "colab": {
     "base_uri": "https://localhost:8080/"
    },
    "executionInfo": {
     "elapsed": 35,
     "status": "ok",
     "timestamp": 1754311353638,
     "user": {
      "displayName": "Mariana Esther Martinez-Sanchez",
      "userId": "10711205296019124378"
     },
     "user_tz": 360
    },
    "id": "6VuVPC-st4XA",
    "outputId": "ab057473-4d6f-401b-fd43-a3b816e9e8b8"
   },
   "outputs": [
    {
     "name": "stdout",
     "output_type": "stream",
     "text": [
      "Hola mundo!\n"
     ]
    }
   ],
   "source": [
    "print(\"Hola mundo!\")"
   ]
  },
  {
   "cell_type": "markdown",
   "metadata": {
    "id": "WxMz1BQOt4XB",
    "tags": []
   },
   "source": [
    "## 1.b Valores, variables y tipos\n",
    "\n",
    "Antes de empezar necesitamos algunas definiciones:\n",
    "\n",
    "* Valor: la medida o atributo real\n",
    "* Variable: una medida o atributo que puede cambiar\n",
    "\n",
    "Por ejemplo, `5` es un valor, pero `a` es una variable que puede tener cualquier valor, como 5."
   ]
  },
  {
   "cell_type": "code",
   "execution_count": 2,
   "metadata": {
    "colab": {
     "base_uri": "https://localhost:8080/"
    },
    "id": "v7q16SkJt4XB",
    "outputId": "bbb4f17f-beaa-48cd-f6c2-0cbcb2626b6c"
   },
   "outputs": [
    {
     "data": {
      "text/plain": [
       "5"
      ]
     },
     "execution_count": 2,
     "metadata": {},
     "output_type": "execute_result"
    }
   ],
   "source": [
    "a = 5\n",
    "a"
   ]
  },
  {
   "cell_type": "markdown",
   "metadata": {
    "id": "SKBdH3hBt4XC"
   },
   "source": [
    "En Python existen diferentes tipos de datos, como números enteros, flotantes, texto y booleanos.\n",
    "\n",
    "Los números enteros se escriben sin decimales, mientras que los flotantes tienen decimales. El texto se escribe entre comillas simples o dobles. Los booleanos son verdadero o falso.\n",
    "\n",
    "* _integer_ (`int`): número entero\n",
    "* _float_ (`float`): número decimal\n",
    "* _string_ (`str`): cadena de texto\n",
    "* _boolean_ (`bool`): verdadero o falso\n",
    "* `None` y `np.nan`: cuando no existe\n",
    "\n",
    "Para saber el tipo de un valor usamos la función `type()`\n",
    "\n",
    "Por defecto, el notebook nos muestra la salida de las instrucciones en la última línea de la celda sin necesidad de usar la instrucción `print()`\n",
    "\n",
    "Asignemos a la variable `a` el valor entero `5`"
   ]
  },
  {
   "cell_type": "code",
   "execution_count": 3,
   "metadata": {
    "colab": {
     "base_uri": "https://localhost:8080/"
    },
    "id": "ThGDRdYxt4XC",
    "outputId": "74be7a1e-bd4b-41eb-b507-7977ea876c9c"
   },
   "outputs": [
    {
     "data": {
      "text/plain": [
       "(5, int)"
      ]
     },
     "execution_count": 3,
     "metadata": {},
     "output_type": "execute_result"
    }
   ],
   "source": [
    "a = 5\n",
    "a, type(a)"
   ]
  },
  {
   "cell_type": "markdown",
   "metadata": {
    "id": "IGhVsat2t4XD"
   },
   "source": [
    "Ahora, asignemos a la misma variable `a` el valor flotante `5.0`. Podemos ver que aunque la variable es la misma, el tipo cambia."
   ]
  },
  {
   "cell_type": "code",
   "execution_count": 4,
   "metadata": {
    "colab": {
     "base_uri": "https://localhost:8080/"
    },
    "id": "dDnBH8vvt4XD",
    "outputId": "b7cdfa17-b6ad-434f-ee8e-451506d5c4a4"
   },
   "outputs": [
    {
     "data": {
      "text/plain": [
       "(5.0, float)"
      ]
     },
     "execution_count": 4,
     "metadata": {},
     "output_type": "execute_result"
    }
   ],
   "source": [
    "a = 5.0\n",
    "a, type(a)"
   ]
  },
  {
   "cell_type": "markdown",
   "metadata": {
    "id": "SMJSPHcut4XE"
   },
   "source": [
    "También podemos asignar a `a` el texto `'cinco'`, marcando entre comillas que es un valor de texto.\n",
    "\n",
    "Cabe destacar que aunque para un humano el valor es el mismo, para la computadora son tres valores diferentes con distintas características. Tanto `5` como `5.0` son números y se pueden en usar operaciones matemáticas, aunque se representan diferente en la memoria.\n",
    "Por otro lado, `cinco` es un texto y se le aplican operaciones diferentes."
   ]
  },
  {
   "cell_type": "code",
   "execution_count": 5,
   "metadata": {
    "colab": {
     "base_uri": "https://localhost:8080/"
    },
    "id": "7r_JUtRXt4XE",
    "outputId": "11edc7b3-e602-4edd-e8dc-81775e1a9eae",
    "tags": []
   },
   "outputs": [
    {
     "data": {
      "text/plain": [
       "('cinco', str)"
      ]
     },
     "execution_count": 5,
     "metadata": {},
     "output_type": "execute_result"
    }
   ],
   "source": [
    "a = \"cinco\"\n",
    "a, type(a)"
   ]
  },
  {
   "cell_type": "markdown",
   "metadata": {
    "id": "DjKBR-Gct4XF",
    "tags": []
   },
   "source": [
    "Otro tipo de datos son los Booleanos, los cuales pueden ser Verdaderos o Falsos."
   ]
  },
  {
   "cell_type": "code",
   "execution_count": 6,
   "metadata": {
    "colab": {
     "base_uri": "https://localhost:8080/"
    },
    "id": "oZrwOx9Gt4XG",
    "outputId": "5e2900ca-afef-4672-c529-624e68cb3574",
    "tags": []
   },
   "outputs": [
    {
     "data": {
      "text/plain": [
       "(False, bool)"
      ]
     },
     "execution_count": 6,
     "metadata": {},
     "output_type": "execute_result"
    }
   ],
   "source": [
    "a = False\n",
    "a, type(a)"
   ]
  },
  {
   "cell_type": "markdown",
   "metadata": {
    "id": "o9D5UfhWt4XG"
   },
   "source": [
    "A veces necesitamos representar la falta de información: `None` se utiliza para representar cuando el valor \"no existe\"."
   ]
  },
  {
   "cell_type": "code",
   "execution_count": 7,
   "metadata": {
    "colab": {
     "base_uri": "https://localhost:8080/"
    },
    "id": "A8X8RznHt4XG",
    "outputId": "728fbb8a-7a2e-4e5d-bd9f-4d67daa02f71"
   },
   "outputs": [
    {
     "data": {
      "text/plain": [
       "(None, NoneType)"
      ]
     },
     "execution_count": 7,
     "metadata": {},
     "output_type": "execute_result"
    }
   ],
   "source": [
    "a = None\n",
    "a, type(a)"
   ]
  },
  {
   "cell_type": "markdown",
   "metadata": {
    "id": "wtue6ykct4XG"
   },
   "source": [
    "Python incluye una serie de herramientas por default, pero algunas más especializadas se encuentran en bibliotecas especiales. Por ejemplo, `nan` o \"not a number\" es parte de biblioteca de operaciones matemáticas `numpy`."
   ]
  },
  {
   "cell_type": "code",
   "execution_count": 8,
   "metadata": {
    "colab": {
     "base_uri": "https://localhost:8080/"
    },
    "id": "wvVxxrfbt4XG",
    "outputId": "0e19427d-dfc4-4d4f-d5d9-f47290c286c7"
   },
   "outputs": [
    {
     "data": {
      "text/plain": [
       "(nan, float)"
      ]
     },
     "execution_count": 8,
     "metadata": {},
     "output_type": "execute_result"
    }
   ],
   "source": [
    "from numpy import nan\n",
    "a = nan\n",
    "a, type(a)"
   ]
  },
  {
   "cell_type": "markdown",
   "metadata": {
    "id": "qxz08cmFt4XH"
   },
   "source": [
    "### Listas"
   ]
  },
  {
   "cell_type": "markdown",
   "metadata": {
    "id": "ux2BOjHKt4XH"
   },
   "source": [
    "Además, existen tipos que son colecciones de otros valores:\n",
    "* `list`: lista ordenada\n",
    "* `dict`: diccionario con llaves\n",
    "\n",
    "Primero definiremos una lista, en este caso usaremos una nueva variable llamada `l`"
   ]
  },
  {
   "cell_type": "code",
   "execution_count": 9,
   "metadata": {
    "colab": {
     "base_uri": "https://localhost:8080/"
    },
    "id": "9oyhQ3Ywt4XH",
    "outputId": "ae5c74fc-a2e3-4815-d24a-67a5e8a46f68"
   },
   "outputs": [
    {
     "data": {
      "text/plain": [
       "([1, 2, 3, 4, 5, 6, 7, 8, 9, 0], list)"
      ]
     },
     "execution_count": 9,
     "metadata": {},
     "output_type": "execute_result"
    }
   ],
   "source": [
    "l = [1,2,3,4,5,6,7,8,9,0]\n",
    "l, type(l)"
   ]
  },
  {
   "cell_type": "markdown",
   "metadata": {
    "id": "X34EBmFet4XH"
   },
   "source": [
    "Podemos acceder a los elementos de las listas por su posición. Las listas empiezan de cero."
   ]
  },
  {
   "cell_type": "code",
   "execution_count": 10,
   "metadata": {
    "colab": {
     "base_uri": "https://localhost:8080/"
    },
    "id": "0NoR6XOPt4XH",
    "outputId": "ce4af50e-cab2-4f1c-9fba-a2d1ef9ac22c"
   },
   "outputs": [
    {
     "data": {
      "text/plain": [
       "1"
      ]
     },
     "execution_count": 10,
     "metadata": {},
     "output_type": "execute_result"
    }
   ],
   "source": [
    "l[0]"
   ]
  },
  {
   "cell_type": "code",
   "execution_count": 11,
   "metadata": {
    "colab": {
     "base_uri": "https://localhost:8080/"
    },
    "id": "ZkiOFigHt4XH",
    "outputId": "3aa4c040-e07d-45ee-95e7-38ee8f848bd5"
   },
   "outputs": [
    {
     "data": {
      "text/plain": [
       "4"
      ]
     },
     "execution_count": 11,
     "metadata": {},
     "output_type": "execute_result"
    }
   ],
   "source": [
    "l[3]"
   ]
  },
  {
   "cell_type": "markdown",
   "metadata": {
    "id": "-zmU96aEt4XH"
   },
   "source": [
    "El usar números negativos en el índice nos regresa el elemento contando del final hacia el principio"
   ]
  },
  {
   "cell_type": "code",
   "execution_count": 12,
   "metadata": {
    "colab": {
     "base_uri": "https://localhost:8080/"
    },
    "id": "mz9qjY3Nt4XH",
    "outputId": "4c3b37ee-d144-45fa-d367-341df55c7c7c"
   },
   "outputs": [
    {
     "data": {
      "text/plain": [
       "0"
      ]
     },
     "execution_count": 12,
     "metadata": {},
     "output_type": "execute_result"
    }
   ],
   "source": [
    "l[-1]"
   ]
  },
  {
   "cell_type": "markdown",
   "metadata": {
    "id": "dAliQONtt4XH"
   },
   "source": [
    "También podemos acceder a múltiples consecutivos elementos de la lista con el formato `inicio : final`.\n",
    "Nota que no se incluye el último número."
   ]
  },
  {
   "cell_type": "code",
   "execution_count": 13,
   "metadata": {
    "colab": {
     "base_uri": "https://localhost:8080/"
    },
    "id": "6rsB5t_et4XH",
    "outputId": "b9c0a2aa-cdac-4339-f39b-1282ecfd9ab6"
   },
   "outputs": [
    {
     "data": {
      "text/plain": [
       "[3, 4, 5, 6]"
      ]
     },
     "execution_count": 13,
     "metadata": {},
     "output_type": "execute_result"
    }
   ],
   "source": [
    "l[2:6]"
   ]
  },
  {
   "cell_type": "markdown",
   "metadata": {
    "id": "J9arFrQLt4XH"
   },
   "source": [
    "Si no se marca el final en automático se pone el resto de la lista"
   ]
  },
  {
   "cell_type": "code",
   "execution_count": 14,
   "metadata": {
    "colab": {
     "base_uri": "https://localhost:8080/"
    },
    "id": "FKya-woUt4XH",
    "outputId": "5e13844b-ba24-45de-da99-bca666e83d60"
   },
   "outputs": [
    {
     "data": {
      "text/plain": [
       "[5, 6, 7, 8, 9, 0]"
      ]
     },
     "execution_count": 14,
     "metadata": {},
     "output_type": "execute_result"
    }
   ],
   "source": [
    "l[4:]"
   ]
  },
  {
   "cell_type": "markdown",
   "metadata": {
    "id": "2JOuNogKt4XI"
   },
   "source": [
    "Las listas pueden contener valores de distintos tipos, incluyendo otras listas"
   ]
  },
  {
   "cell_type": "code",
   "execution_count": 15,
   "metadata": {
    "colab": {
     "base_uri": "https://localhost:8080/"
    },
    "id": "2Cee_1I7t4XI",
    "outputId": "4b01c88f-a2ef-4d94-a2bc-1058ab8d74b9",
    "tags": []
   },
   "outputs": [
    {
     "data": {
      "text/plain": [
       "([1, 2, 'tres', 4, ['cinco', 'five', '5', 'cinq', 5], 6, 'siete'], list)"
      ]
     },
     "execution_count": 15,
     "metadata": {},
     "output_type": "execute_result"
    }
   ],
   "source": [
    "l = [1,2, 'tres', 4, ['cinco','five', '5','cinq', 5], 6, 'siete']\n",
    "l, type(l)"
   ]
  },
  {
   "cell_type": "markdown",
   "metadata": {
    "id": "pZnVAu1ht4XI"
   },
   "source": [
    "En el caso de listas anidadas, es decir, listas adentro de listas, se puede acceder a los valores encadenando corchetes."
   ]
  },
  {
   "cell_type": "code",
   "execution_count": 16,
   "metadata": {
    "colab": {
     "base_uri": "https://localhost:8080/",
     "height": 36
    },
    "id": "gYKaf6CZt4XI",
    "outputId": "eefab56c-e8a0-4f4f-c7e3-259f13ed23df"
   },
   "outputs": [
    {
     "data": {
      "text/plain": [
       "'cinq'"
      ]
     },
     "execution_count": 16,
     "metadata": {},
     "output_type": "execute_result"
    }
   ],
   "source": [
    "l[4][-2]"
   ]
  },
  {
   "cell_type": "markdown",
   "metadata": {
    "id": "R_ciixU_t4XI"
   },
   "source": [
    "### Diccionarios\n",
    "\n",
    "Los diccionarios son pares de números, tienen una llave y un valor.\n",
    "\n",
    "La llave debe de ser un tipo _inmutable_ como texto, número o Booleano."
   ]
  },
  {
   "cell_type": "code",
   "execution_count": 17,
   "metadata": {
    "colab": {
     "base_uri": "https://localhost:8080/"
    },
    "id": "CqLwuL4Rt4XI",
    "outputId": "463bff50-d37d-4639-e939-f5757662a04b"
   },
   "outputs": [
    {
     "data": {
      "text/plain": [
       "({'uno': 1, 'dos': 2, 'tres': 3, 'cuatro': 4, 'cinco': 5}, dict)"
      ]
     },
     "execution_count": 17,
     "metadata": {},
     "output_type": "execute_result"
    }
   ],
   "source": [
    "a = {'uno':1, 'dos':2, 'tres':3, 'cuatro':4, 'cinco':5}\n",
    "a, type(a)"
   ]
  },
  {
   "cell_type": "markdown",
   "metadata": {
    "id": "Ne60_fa5t4XI"
   },
   "source": [
    "Se puede acceder al diccionario usando la llave."
   ]
  },
  {
   "cell_type": "code",
   "execution_count": 18,
   "metadata": {
    "colab": {
     "base_uri": "https://localhost:8080/"
    },
    "id": "HSLBkWs4t4XI",
    "outputId": "3dc09a41-bba4-429b-9114-2b90716cf6f5"
   },
   "outputs": [
    {
     "data": {
      "text/plain": [
       "3"
      ]
     },
     "execution_count": 18,
     "metadata": {},
     "output_type": "execute_result"
    }
   ],
   "source": [
    "a['tres']"
   ]
  },
  {
   "cell_type": "markdown",
   "metadata": {
    "id": "DrIF3MyBt4XK"
   },
   "source": [
    "Podemos ver todas las llaves con `.keys()`"
   ]
  },
  {
   "cell_type": "code",
   "execution_count": 19,
   "metadata": {
    "colab": {
     "base_uri": "https://localhost:8080/"
    },
    "id": "sJ8e0UOFt4XK",
    "outputId": "41a7d5e9-e601-4017-ca54-1ed7e5409b2f"
   },
   "outputs": [
    {
     "data": {
      "text/plain": [
       "dict_keys(['uno', 'dos', 'tres', 'cuatro', 'cinco'])"
      ]
     },
     "execution_count": 19,
     "metadata": {},
     "output_type": "execute_result"
    }
   ],
   "source": [
    "a.keys()"
   ]
  },
  {
   "cell_type": "markdown",
   "metadata": {
    "id": "pmhmWl3Xt4XK"
   },
   "source": [
    "Podemos ver todas los valores con `.values()`"
   ]
  },
  {
   "cell_type": "code",
   "execution_count": 20,
   "metadata": {
    "colab": {
     "base_uri": "https://localhost:8080/"
    },
    "id": "9E2xggQpt4XK",
    "outputId": "7e7471ed-2dc7-46c7-c568-bc5acbdc40a7",
    "scrolled": true
   },
   "outputs": [
    {
     "data": {
      "text/plain": [
       "dict_values([1, 2, 3, 4, 5])"
      ]
     },
     "execution_count": 20,
     "metadata": {},
     "output_type": "execute_result"
    }
   ],
   "source": [
    "a.values()"
   ]
  },
  {
   "cell_type": "markdown",
   "metadata": {
    "id": "Zm5fvVAOt4XK"
   },
   "source": [
    "Podemos ver todas los pares de llaves y valores con `.items()`. Esto es útil para iterar sobre un diccionario."
   ]
  },
  {
   "cell_type": "code",
   "execution_count": 21,
   "metadata": {
    "colab": {
     "base_uri": "https://localhost:8080/"
    },
    "id": "Vg42o6Qit4XK",
    "outputId": "9b982257-9150-49d6-9f60-48604cd9c2c8"
   },
   "outputs": [
    {
     "data": {
      "text/plain": [
       "dict_items([('uno', 1), ('dos', 2), ('tres', 3), ('cuatro', 4), ('cinco', 5)])"
      ]
     },
     "execution_count": 21,
     "metadata": {},
     "output_type": "execute_result"
    }
   ],
   "source": [
    "a.items()"
   ]
  },
  {
   "cell_type": "markdown",
   "metadata": {
    "id": "Nbsi5bFzt4XK"
   },
   "source": [
    "### Ejercicio 2\n",
    "1. Crea una nueva celda de código\n",
    "2. Crea una lista con cinco elementos y guárdala en una variable _b_\n",
    "3. Encuentra el primer, tercer y último elemento"
   ]
  },
  {
   "cell_type": "markdown",
   "metadata": {
    "id": "HNrlr36bt4XK"
   },
   "source": [
    "## 1.c Operaciones y funciones\n",
    "\n",
    "En Python se pueden realizar operaciones matemáticas, como suma, resta, multiplicación y división. También se pueden usar operadores de comparación, como igual a (==), menor que (<) y mayor que (>).\n",
    "\n",
    "Las operaciones y comparaciones se combinan para crear expresiones, que son evaluadas para producir un resultado.\n",
    "\n",
    "Una **función** toma una serie de argumentos y realiza una serie de pasos y regresa un resultado (generalmente).\n",
    "\n",
    "Podemos distinguir las funciones por qué usan paréntesis.\n",
    "* `print('Hola mundo')`\n",
    "* `'-'.join(['a','b','c','d'])`\n",
    "\n",
    "Los corchetes se usan para encontrar la posición dentro de una estructura de datos"
   ]
  },
  {
   "cell_type": "code",
   "execution_count": 22,
   "metadata": {
    "colab": {
     "base_uri": "https://localhost:8080/"
    },
    "id": "hiIxKFUct4XL",
    "outputId": "5e1b01ee-e849-477f-b114-192e4f9ce7bd"
   },
   "outputs": [
    {
     "data": {
      "text/plain": [
       "-2"
      ]
     },
     "execution_count": 22,
     "metadata": {},
     "output_type": "execute_result"
    }
   ],
   "source": [
    "a = 5\n",
    "b = -7\n",
    "a + b"
   ]
  },
  {
   "cell_type": "markdown",
   "metadata": {
    "id": "XmgF7NECt4XL"
   },
   "source": [
    "También podemos verificar si dos variables son iguales con `==`"
   ]
  },
  {
   "cell_type": "code",
   "execution_count": 23,
   "metadata": {
    "colab": {
     "base_uri": "https://localhost:8080/"
    },
    "id": "x2rdOusIt4XL",
    "outputId": "26aaacc5-d442-47fa-9e88-eea806944744"
   },
   "outputs": [
    {
     "data": {
      "text/plain": [
       "False"
      ]
     },
     "execution_count": 23,
     "metadata": {},
     "output_type": "execute_result"
    }
   ],
   "source": [
    "a == b"
   ]
  },
  {
   "cell_type": "markdown",
   "metadata": {
    "id": "kn7ye83ct4XL"
   },
   "source": [
    "Para diferencia se usa `!=`"
   ]
  },
  {
   "cell_type": "code",
   "execution_count": 24,
   "metadata": {
    "colab": {
     "base_uri": "https://localhost:8080/"
    },
    "id": "UXZALUm_t4XL",
    "outputId": "69c41ac5-6181-4d3d-feb5-a7a73061209c"
   },
   "outputs": [
    {
     "data": {
      "text/plain": [
       "True"
      ]
     },
     "execution_count": 24,
     "metadata": {},
     "output_type": "execute_result"
    }
   ],
   "source": [
    "a != b"
   ]
  },
  {
   "cell_type": "markdown",
   "metadata": {
    "id": "9p7tJ5RPt4XL"
   },
   "source": [
    "Además, hay operaciones como mayor `>`, menor `<`, mayor o igual `>=` y menor o igual `<=`,"
   ]
  },
  {
   "cell_type": "code",
   "execution_count": 25,
   "metadata": {
    "colab": {
     "base_uri": "https://localhost:8080/"
    },
    "id": "vZTcz2zrt4XL",
    "outputId": "f698ad3a-29b2-492c-e3d1-4ef3c21d6ba1",
    "tags": []
   },
   "outputs": [
    {
     "data": {
      "text/plain": [
       "False"
      ]
     },
     "execution_count": 25,
     "metadata": {},
     "output_type": "execute_result"
    }
   ],
   "source": [
    "a <= b"
   ]
  },
  {
   "cell_type": "markdown",
   "metadata": {
    "id": "wbOW3Cv3t4XL"
   },
   "source": [
    "En el caso de las cadenas de texto existen funciones como unir, capitalizar, remplazar o quitar acentos"
   ]
  },
  {
   "cell_type": "code",
   "execution_count": 26,
   "metadata": {
    "colab": {
     "base_uri": "https://localhost:8080/",
     "height": 36
    },
    "id": "wjNbFlZqt4XL",
    "outputId": "8410a728-3624-45ed-9407-47d82a9f5dce"
   },
   "outputs": [
    {
     "data": {
      "text/plain": [
       "'foobar'"
      ]
     },
     "execution_count": 26,
     "metadata": {},
     "output_type": "execute_result"
    }
   ],
   "source": [
    "s = 'foo'\n",
    "t = 'bar'\n",
    "s+t"
   ]
  },
  {
   "cell_type": "markdown",
   "metadata": {
    "id": "69SYrLZMt4XL"
   },
   "source": [
    "Se pueden unir varios textos con otro texto"
   ]
  },
  {
   "cell_type": "code",
   "execution_count": 27,
   "metadata": {
    "colab": {
     "base_uri": "https://localhost:8080/",
     "height": 36
    },
    "id": "Wm3Nq0mIt4XM",
    "outputId": "91665945-a3a8-4799-9c25-eacd460d5621"
   },
   "outputs": [
    {
     "data": {
      "text/plain": [
       "'foo-bar-bar-foo'"
      ]
     },
     "execution_count": 27,
     "metadata": {},
     "output_type": "execute_result"
    }
   ],
   "source": [
    "'-'.join([s,t,t,s])"
   ]
  },
  {
   "cell_type": "markdown",
   "metadata": {
    "id": "x4uQgT02t4XM"
   },
   "source": [
    "Se puede cambiar de mayúsculas a minúsculas de varias formas"
   ]
  },
  {
   "cell_type": "code",
   "execution_count": 28,
   "metadata": {
    "colab": {
     "base_uri": "https://localhost:8080/",
     "height": 36
    },
    "id": "UCoAnD1ot4XM",
    "outputId": "6bd803b6-df45-42e1-e256-1c9867f56b18"
   },
   "outputs": [
    {
     "data": {
      "text/plain": [
       "'foo'"
      ]
     },
     "execution_count": 28,
     "metadata": {},
     "output_type": "execute_result"
    }
   ],
   "source": [
    "s.lower()"
   ]
  },
  {
   "cell_type": "markdown",
   "metadata": {
    "id": "w6Zpybl5t4XM"
   },
   "source": [
    "O se puede remplazar un texto específico por otro"
   ]
  },
  {
   "cell_type": "code",
   "execution_count": 29,
   "metadata": {
    "colab": {
     "base_uri": "https://localhost:8080/",
     "height": 36
    },
    "id": "3tg_6GP2t4XM",
    "outputId": "259522cb-f514-41c5-81f4-ca193c128374"
   },
   "outputs": [
    {
     "data": {
      "text/plain": [
       "'barggggg'"
      ]
     },
     "execution_count": 29,
     "metadata": {},
     "output_type": "execute_result"
    }
   ],
   "source": [
    "t.replace('ar','arggggg')"
   ]
  },
  {
   "cell_type": "markdown",
   "metadata": {
    "id": "8Xuq58Blt4XM"
   },
   "source": [
    "No todas las funciones están en los paquetes básicos. Por ejemplo, quitar acentos está en `unidecode`, por lo cual es necesario instalarlo e importarlo."
   ]
  },
  {
   "cell_type": "code",
   "execution_count": 30,
   "metadata": {
    "colab": {
     "base_uri": "https://localhost:8080/",
     "height": 36
    },
    "id": "sjw5QZZXt4XM",
    "outputId": "9f2e8f18-1e22-406a-80d8-d255ca632fdb",
    "tags": []
   },
   "outputs": [
    {
     "data": {
      "text/plain": [
       "'aeIOuN'"
      ]
     },
     "execution_count": 30,
     "metadata": {},
     "output_type": "execute_result"
    }
   ],
   "source": [
    "#! pip install unidecode\n",
    "import unidecode\n",
    "s = 'áéÍÓüÑ'\n",
    "unidecode.unidecode(s)"
   ]
  },
  {
   "cell_type": "markdown",
   "metadata": {
    "id": "cJ9hdvWzt4XM"
   },
   "source": [
    "## 1.d Comentarios y errores\n",
    "\n",
    "Es importante documentar los pasos que seguimos dentro de un análisis, parte de esta documentación son los comentarios.\n",
    "\n",
    "Los comentarios son pequeños textos dentro del código que explican lo que este hace. Los comentarios empiezan con #."
   ]
  },
  {
   "cell_type": "code",
   "execution_count": 31,
   "metadata": {
    "colab": {
     "base_uri": "https://localhost:8080/",
     "height": 36
    },
    "id": "cSgx6gf0t4XM",
    "outputId": "8dfd1d63-3af2-4084-a644-62b0aecdd4aa",
    "tags": []
   },
   "outputs": [
    {
     "data": {
      "text/plain": [
       "'foo'"
      ]
     },
     "execution_count": 31,
     "metadata": {},
     "output_type": "execute_result"
    }
   ],
   "source": [
    "# Importa la funcion unidecode para quitar acentos\n",
    "from unidecode import unidecode\n",
    "a = 'foó' # declara variable\n",
    "unidecode(a) # ejecuta la funcion"
   ]
  },
  {
   "cell_type": "markdown",
   "metadata": {
    "id": "v5YsqWYBt4XN"
   },
   "source": [
    "Cuando Python no encuentra un problema puede levantar un warning o error. Un warning es una advertencia, mientras que un error implica que algo fallo. Estos se muestran como celdas rojas.\n",
    "\n",
    "Para leer un error es importante recordar:\n",
    "* La flecha verde indica en que línea se cometió el error\n",
    "* La última línea dice el resumen del error, esta línea es la que se googlea para buscar una solución"
   ]
  },
  {
   "cell_type": "code",
   "execution_count": 32,
   "metadata": {
    "colab": {
     "base_uri": "https://localhost:8080/",
     "height": 161
    },
    "id": "NbRU0kxJt4XN",
    "outputId": "c53b3936-05a1-4b13-9161-6d6c46c14463",
    "tags": []
   },
   "outputs": [
    {
     "ename": "KeyError",
     "evalue": "3",
     "output_type": "error",
     "traceback": [
      "\u001b[31m---------------------------------------------------------------------------\u001b[39m",
      "\u001b[31mKeyError\u001b[39m                                  Traceback (most recent call last)",
      "\u001b[36mCell\u001b[39m\u001b[36m \u001b[39m\u001b[32mIn[32]\u001b[39m\u001b[32m, line 2\u001b[39m\n\u001b[32m      1\u001b[39m a = {\u001b[33m'\u001b[39m\u001b[33muno\u001b[39m\u001b[33m'\u001b[39m:\u001b[32m1\u001b[39m, \u001b[33m'\u001b[39m\u001b[33mdos\u001b[39m\u001b[33m'\u001b[39m:\u001b[32m2\u001b[39m, \u001b[33m'\u001b[39m\u001b[33mtres\u001b[39m\u001b[33m'\u001b[39m:\u001b[32m3\u001b[39m, \u001b[33m'\u001b[39m\u001b[33mcuatro\u001b[39m\u001b[33m'\u001b[39m:\u001b[32m4\u001b[39m, \u001b[33m'\u001b[39m\u001b[33mcinco\u001b[39m\u001b[33m'\u001b[39m:\u001b[32m5\u001b[39m}\n\u001b[32m----> \u001b[39m\u001b[32m2\u001b[39m \u001b[43ma\u001b[49m\u001b[43m[\u001b[49m\u001b[32;43m3\u001b[39;49m\u001b[43m]\u001b[49m\n",
      "\u001b[31mKeyError\u001b[39m: 3"
     ]
    }
   ],
   "source": [
    "a = {'uno':1, 'dos':2, 'tres':3, 'cuatro':4, 'cinco':5}\n",
    "a[3]"
   ]
  },
  {
   "cell_type": "markdown",
   "metadata": {
    "id": "3hBPPwwkt4XN"
   },
   "source": [
    "### Ejercicio 3\n",
    "1. En una celda nueva escribe una expresión que generé un error\n",
    "2. Reconoce cada uno de los elementos del mensaje de error\n",
    "3. Busca el error y explica qué sucedió"
   ]
  },
  {
   "cell_type": "markdown",
   "metadata": {
    "id": "cxzzIeSjt4XN"
   },
   "source": [
    "## 1.e Resumen\n",
    "\n",
    "En esta lección hemos aprendido varios conceptos:\n",
    "* Jupyter notebook y sus principales tipos de celdas:\n",
    "    * Markdown para escribir texto\n",
    "    * Code para programar\n",
    "* El kernel y como correr una celda\n",
    "* Tipos de datos básicos: enteros `int`, flotantes `float`, cadenas de texto `str`, booleanos `bool` y `None`\n",
    "* Operaciones de números, cadenas de texto y booleanas\n",
    "* Estructuras de datos como listas `list` y diccionarios `dict`\n",
    "* Tipos de documentación en celda y código (usando `#`)\n",
    "* Partes de un error:\n",
    "    * Tipo de error\n",
    "    * Mensaje de error\n",
    "    * Línea del error\n",
    "\n",
    "**¡Gracias!**"
   ]
  }
 ],
 "metadata": {
  "colab": {
   "provenance": [],
   "toc_visible": true
  },
  "kernelspec": {
   "display_name": "Python 3 (ipykernel)",
   "language": "python",
   "name": "python3"
  },
  "language_info": {
   "codemirror_mode": {
    "name": "ipython",
    "version": 3
   },
   "file_extension": ".py",
   "mimetype": "text/x-python",
   "name": "python",
   "nbconvert_exporter": "python",
   "pygments_lexer": "ipython3",
   "version": "3.12.11"
  }
 },
 "nbformat": 4,
 "nbformat_minor": 4
}
